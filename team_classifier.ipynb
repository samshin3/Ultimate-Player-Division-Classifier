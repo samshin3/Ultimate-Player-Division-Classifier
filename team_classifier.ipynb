{
 "cells": [
  {
   "cell_type": "markdown",
   "id": "2dfab238",
   "metadata": {},
   "source": [
    "# Team Classifier\n",
    "From the observations, I have decided to create a model to classify a team's division rather than an individuals division."
   ]
  },
  {
   "cell_type": "code",
   "execution_count": 3,
   "id": "60f03fda",
   "metadata": {},
   "outputs": [],
   "source": [
    "import pandas as pd"
   ]
  },
  {
   "cell_type": "code",
   "execution_count": 4,
   "id": "2595cc4a",
   "metadata": {},
   "outputs": [
    {
     "data": {
      "text/html": [
       "<div>\n",
       "<style scoped>\n",
       "    .dataframe tbody tr th:only-of-type {\n",
       "        vertical-align: middle;\n",
       "    }\n",
       "\n",
       "    .dataframe tbody tr th {\n",
       "        vertical-align: top;\n",
       "    }\n",
       "\n",
       "    .dataframe thead th {\n",
       "        text-align: right;\n",
       "    }\n",
       "</style>\n",
       "<table border=\"1\" class=\"dataframe\">\n",
       "  <thead>\n",
       "    <tr style=\"text-align: right;\">\n",
       "      <th></th>\n",
       "      <th>player</th>\n",
       "      <th>level</th>\n",
       "      <th>gender</th>\n",
       "      <th>division</th>\n",
       "      <th>team_name</th>\n",
       "      <th>Turns</th>\n",
       "      <th>Ds</th>\n",
       "      <th>Assists</th>\n",
       "      <th>Points</th>\n",
       "      <th>plus_minus</th>\n",
       "      <th>team_games</th>\n",
       "      <th>turns_per_game</th>\n",
       "      <th>ds_per_game</th>\n",
       "      <th>ast_per_game</th>\n",
       "      <th>pts_per_game</th>\n",
       "      <th>pls_mns_per_game</th>\n",
       "    </tr>\n",
       "  </thead>\n",
       "  <tbody>\n",
       "    <tr>\n",
       "      <th>0</th>\n",
       "      <td>Jacques Nissen</td>\n",
       "      <td>Division 1</td>\n",
       "      <td>Men</td>\n",
       "      <td>Division 1 Men</td>\n",
       "      <td>Brown Brownian Motion</td>\n",
       "      <td>12</td>\n",
       "      <td>8</td>\n",
       "      <td>38</td>\n",
       "      <td>13</td>\n",
       "      <td>47</td>\n",
       "      <td>8</td>\n",
       "      <td>1.500000</td>\n",
       "      <td>1.000000</td>\n",
       "      <td>4.750000</td>\n",
       "      <td>1.625000</td>\n",
       "      <td>5.875</td>\n",
       "    </tr>\n",
       "    <tr>\n",
       "      <th>1</th>\n",
       "      <td>Cal Nightingale</td>\n",
       "      <td>Division 1</td>\n",
       "      <td>Men</td>\n",
       "      <td>Division 1 Men</td>\n",
       "      <td>Brown Brownian Motion</td>\n",
       "      <td>3</td>\n",
       "      <td>0</td>\n",
       "      <td>12</td>\n",
       "      <td>27</td>\n",
       "      <td>36</td>\n",
       "      <td>8</td>\n",
       "      <td>0.375000</td>\n",
       "      <td>0.000000</td>\n",
       "      <td>1.500000</td>\n",
       "      <td>3.375000</td>\n",
       "      <td>4.500</td>\n",
       "    </tr>\n",
       "    <tr>\n",
       "      <th>2</th>\n",
       "      <td>Faye Burdick</td>\n",
       "      <td>Division 1</td>\n",
       "      <td>Women</td>\n",
       "      <td>Division 1 Women</td>\n",
       "      <td>Colorado Quandary</td>\n",
       "      <td>6</td>\n",
       "      <td>12</td>\n",
       "      <td>16</td>\n",
       "      <td>13</td>\n",
       "      <td>35</td>\n",
       "      <td>7</td>\n",
       "      <td>0.857143</td>\n",
       "      <td>1.714286</td>\n",
       "      <td>2.285714</td>\n",
       "      <td>1.857143</td>\n",
       "      <td>5.000</td>\n",
       "    </tr>\n",
       "    <tr>\n",
       "      <th>3</th>\n",
       "      <td>Matthew Gregor</td>\n",
       "      <td>Division 3</td>\n",
       "      <td>Men</td>\n",
       "      <td>Division 3 Men</td>\n",
       "      <td>Franciscan Fatal</td>\n",
       "      <td>2</td>\n",
       "      <td>6</td>\n",
       "      <td>3</td>\n",
       "      <td>26</td>\n",
       "      <td>33</td>\n",
       "      <td>6</td>\n",
       "      <td>0.333333</td>\n",
       "      <td>1.000000</td>\n",
       "      <td>0.500000</td>\n",
       "      <td>4.333333</td>\n",
       "      <td>5.500</td>\n",
       "    </tr>\n",
       "    <tr>\n",
       "      <th>4</th>\n",
       "      <td>Frankie Saraniti</td>\n",
       "      <td>Division 3</td>\n",
       "      <td>Women</td>\n",
       "      <td>Division 3 Women</td>\n",
       "      <td>Carleton Eclipse</td>\n",
       "      <td>11</td>\n",
       "      <td>15</td>\n",
       "      <td>12</td>\n",
       "      <td>17</td>\n",
       "      <td>33</td>\n",
       "      <td>6</td>\n",
       "      <td>1.833333</td>\n",
       "      <td>2.500000</td>\n",
       "      <td>2.000000</td>\n",
       "      <td>2.833333</td>\n",
       "      <td>5.500</td>\n",
       "    </tr>\n",
       "  </tbody>\n",
       "</table>\n",
       "</div>"
      ],
      "text/plain": [
       "             player       level  ... pts_per_game pls_mns_per_game\n",
       "0    Jacques Nissen  Division 1  ...     1.625000            5.875\n",
       "1   Cal Nightingale  Division 1  ...     3.375000            4.500\n",
       "2      Faye Burdick  Division 1  ...     1.857143            5.000\n",
       "3    Matthew Gregor  Division 3  ...     4.333333            5.500\n",
       "4  Frankie Saraniti  Division 3  ...     2.833333            5.500\n",
       "\n",
       "[5 rows x 16 columns]"
      ]
     },
     "execution_count": 4,
     "metadata": {},
     "output_type": "execute_result"
    }
   ],
   "source": [
    "df = pd.read_csv(\"Dataset/ultimate_college_championship.csv\")\n",
    "df.head()"
   ]
  },
  {
   "cell_type": "code",
   "execution_count": 5,
   "id": "88b20859",
   "metadata": {},
   "outputs": [],
   "source": [
    "# Split by gender and get team ids\n",
    "male_df = df[df['gender'] == 'Men'].drop(columns='team_games')\n",
    "female_df = df[df['gender'] == 'Women'].drop(columns='team_games')\n",
    "team_divs = df[['team_name', 'level', 'gender']].drop_duplicates().set_index(keys='team_name')\n",
    "male_df = male_df.loc[:, \"player\":\"plus_minus\"]\n",
    "female_df = female_df.loc[:, \"player\":\"plus_minus\"]"
   ]
  },
  {
   "cell_type": "code",
   "execution_count": 6,
   "id": "c114fa13",
   "metadata": {},
   "outputs": [],
   "source": [
    "# Making Div 1 and Div 3 Bipolar\n",
    "def make_bipolar(cell):\n",
    "    if cell == 'Division 1':\n",
    "        return 1\n",
    "    return -1"
   ]
  },
  {
   "cell_type": "code",
   "execution_count": 7,
   "id": "65ae0212",
   "metadata": {},
   "outputs": [],
   "source": [
    "# Processed data for modelling\n",
    "def prepare_data(df, div):\n",
    "    df_mean = df.groupby('team_name').mean(numeric_only=True)\n",
    "    df_mean.columns = [col + ' mean' for col in df_mean.columns]\n",
    "    df_stdev = df.groupby('team_name').std(numeric_only=True)\n",
    "    df_stdev.columns = [col + ' stdev' for col in df_stdev.columns]\n",
    "    new_df = df_mean.join(df_stdev)\n",
    "    new_df = new_df.join(div['level'])\n",
    "    new_df['level'] = new_df['level'].apply(make_bipolar)\n",
    "    return new_df"
   ]
  },
  {
   "cell_type": "code",
   "execution_count": 8,
   "id": "10889038",
   "metadata": {},
   "outputs": [],
   "source": [
    "# Make training model\n",
    "male_teams_all = prepare_data(male_df, team_divs)\n",
    "male_x_train = male_teams_all.drop(columns='level')\n",
    "male_y_train = male_teams_all['level']"
   ]
  },
  {
   "cell_type": "code",
   "execution_count": 9,
   "id": "d7474683",
   "metadata": {},
   "outputs": [],
   "source": [
    "# Function that gets accuracy of results\n",
    "def get_results(prediction, actual):\n",
    "    data = {\n",
    "        'Prediction': prediction,\n",
    "        'Actual': actual\n",
    "    }\n",
    "    results = pd.DataFrame(data)\n",
    "    num_correct = len(results[results['Prediction'] == results['Actual']])\n",
    "    total = len(results)\n",
    "    accuracy = round(num_correct/total * 100, 2)\n",
    "    print(f\"Accuracy: {accuracy}%\")\n",
    "    return results"
   ]
  },
  {
   "cell_type": "code",
   "execution_count": 10,
   "id": "9a7f857e",
   "metadata": {},
   "outputs": [],
   "source": [
    "from sklearn import tree"
   ]
  },
  {
   "cell_type": "code",
   "execution_count": 11,
   "id": "36d13b07",
   "metadata": {},
   "outputs": [],
   "source": [
    "# Training Decision Tree\n",
    "clf = tree.DecisionTreeClassifier()\n",
    "clf = clf.fit(male_x_train, male_y_train)"
   ]
  },
  {
   "cell_type": "markdown",
   "id": "f69e1e30",
   "metadata": {},
   "source": [
    "# Test with 2025 Data"
   ]
  },
  {
   "cell_type": "code",
   "execution_count": 12,
   "id": "51adff12",
   "metadata": {},
   "outputs": [
    {
     "data": {
      "text/html": [
       "<div>\n",
       "<style scoped>\n",
       "    .dataframe tbody tr th:only-of-type {\n",
       "        vertical-align: middle;\n",
       "    }\n",
       "\n",
       "    .dataframe tbody tr th {\n",
       "        vertical-align: top;\n",
       "    }\n",
       "\n",
       "    .dataframe thead th {\n",
       "        text-align: right;\n",
       "    }\n",
       "</style>\n",
       "<table border=\"1\" class=\"dataframe\">\n",
       "  <thead>\n",
       "    <tr style=\"text-align: right;\">\n",
       "      <th></th>\n",
       "      <th>Unnamed: 0</th>\n",
       "      <th>No.</th>\n",
       "      <th>Player</th>\n",
       "      <th>PronounsMere Info  PronounsInterested in learning more about pronouns? Click here.</th>\n",
       "      <th>Position</th>\n",
       "      <th>Year</th>\n",
       "      <th>Height</th>\n",
       "      <th>Points</th>\n",
       "      <th>Assists</th>\n",
       "      <th>Ds</th>\n",
       "      <th>Turns</th>\n",
       "      <th>team_name</th>\n",
       "      <th>level</th>\n",
       "      <th>gender</th>\n",
       "      <th>division</th>\n",
       "    </tr>\n",
       "  </thead>\n",
       "  <tbody>\n",
       "    <tr>\n",
       "      <th>0</th>\n",
       "      <td>0</td>\n",
       "      <td>1</td>\n",
       "      <td>Nima Lhamo</td>\n",
       "      <td>NaN</td>\n",
       "      <td>Cutter</td>\n",
       "      <td>College (JR)</td>\n",
       "      <td>6'0\"</td>\n",
       "      <td>5.0</td>\n",
       "      <td>2.0</td>\n",
       "      <td>2.0</td>\n",
       "      <td>2.0</td>\n",
       "      <td>Massachusetts</td>\n",
       "      <td>Division 1</td>\n",
       "      <td>Men</td>\n",
       "      <td>Division 1 Men</td>\n",
       "    </tr>\n",
       "    <tr>\n",
       "      <th>1</th>\n",
       "      <td>1</td>\n",
       "      <td>4</td>\n",
       "      <td>Ethan Lieman</td>\n",
       "      <td>NaN</td>\n",
       "      <td>NaN</td>\n",
       "      <td>College (FR)</td>\n",
       "      <td>8'2\"</td>\n",
       "      <td>16.0</td>\n",
       "      <td>11.0</td>\n",
       "      <td>NaN</td>\n",
       "      <td>4.0</td>\n",
       "      <td>Massachusetts</td>\n",
       "      <td>Division 1</td>\n",
       "      <td>Men</td>\n",
       "      <td>Division 1 Men</td>\n",
       "    </tr>\n",
       "    <tr>\n",
       "      <th>2</th>\n",
       "      <td>2</td>\n",
       "      <td>6</td>\n",
       "      <td>Roan Dunkerley</td>\n",
       "      <td>NaN</td>\n",
       "      <td>NaN</td>\n",
       "      <td>NaN</td>\n",
       "      <td>NaN</td>\n",
       "      <td>4.0</td>\n",
       "      <td>NaN</td>\n",
       "      <td>NaN</td>\n",
       "      <td>4.0</td>\n",
       "      <td>Massachusetts</td>\n",
       "      <td>Division 1</td>\n",
       "      <td>Men</td>\n",
       "      <td>Division 1 Men</td>\n",
       "    </tr>\n",
       "    <tr>\n",
       "      <th>3</th>\n",
       "      <td>3</td>\n",
       "      <td>7</td>\n",
       "      <td>Ian Buchanan</td>\n",
       "      <td>NaN</td>\n",
       "      <td>NaN</td>\n",
       "      <td>NaN</td>\n",
       "      <td>NaN</td>\n",
       "      <td>NaN</td>\n",
       "      <td>1.0</td>\n",
       "      <td>NaN</td>\n",
       "      <td>2.0</td>\n",
       "      <td>Massachusetts</td>\n",
       "      <td>Division 1</td>\n",
       "      <td>Men</td>\n",
       "      <td>Division 1 Men</td>\n",
       "    </tr>\n",
       "    <tr>\n",
       "      <th>4</th>\n",
       "      <td>4</td>\n",
       "      <td>8</td>\n",
       "      <td>Tomo Liou</td>\n",
       "      <td>NaN</td>\n",
       "      <td>Defense (Cutter)</td>\n",
       "      <td>College (SO)</td>\n",
       "      <td>5'8\"</td>\n",
       "      <td>3.0</td>\n",
       "      <td>NaN</td>\n",
       "      <td>NaN</td>\n",
       "      <td>2.0</td>\n",
       "      <td>Massachusetts</td>\n",
       "      <td>Division 1</td>\n",
       "      <td>Men</td>\n",
       "      <td>Division 1 Men</td>\n",
       "    </tr>\n",
       "  </tbody>\n",
       "</table>\n",
       "</div>"
      ],
      "text/plain": [
       "   Unnamed: 0  No.          Player  ...       level gender        division\n",
       "0           0    1      Nima Lhamo  ...  Division 1    Men  Division 1 Men\n",
       "1           1    4    Ethan Lieman  ...  Division 1    Men  Division 1 Men\n",
       "2           2    6  Roan Dunkerley  ...  Division 1    Men  Division 1 Men\n",
       "3           3    7    Ian Buchanan  ...  Division 1    Men  Division 1 Men\n",
       "4           4    8       Tomo Liou  ...  Division 1    Men  Division 1 Men\n",
       "\n",
       "[5 rows x 15 columns]"
      ]
     },
     "execution_count": 12,
     "metadata": {},
     "output_type": "execute_result"
    }
   ],
   "source": [
    "df_2025 = pd.read_csv(\"Dataset/2025 Database.csv\")\n",
    "df_2025.head()"
   ]
  },
  {
   "cell_type": "code",
   "execution_count": 13,
   "id": "7319170f",
   "metadata": {},
   "outputs": [
    {
     "data": {
      "text/html": [
       "<div>\n",
       "<style scoped>\n",
       "    .dataframe tbody tr th:only-of-type {\n",
       "        vertical-align: middle;\n",
       "    }\n",
       "\n",
       "    .dataframe tbody tr th {\n",
       "        vertical-align: top;\n",
       "    }\n",
       "\n",
       "    .dataframe thead th {\n",
       "        text-align: right;\n",
       "    }\n",
       "</style>\n",
       "<table border=\"1\" class=\"dataframe\">\n",
       "  <thead>\n",
       "    <tr style=\"text-align: right;\">\n",
       "      <th></th>\n",
       "      <th>Player</th>\n",
       "      <th>level</th>\n",
       "      <th>gender</th>\n",
       "      <th>division</th>\n",
       "      <th>team_name</th>\n",
       "      <th>Turns</th>\n",
       "      <th>Ds</th>\n",
       "      <th>Assists</th>\n",
       "      <th>Points</th>\n",
       "      <th>plus_minus</th>\n",
       "    </tr>\n",
       "  </thead>\n",
       "  <tbody>\n",
       "    <tr>\n",
       "      <th>0</th>\n",
       "      <td>Nima Lhamo</td>\n",
       "      <td>Division 1</td>\n",
       "      <td>Men</td>\n",
       "      <td>Division 1 Men</td>\n",
       "      <td>Massachusetts</td>\n",
       "      <td>2.0</td>\n",
       "      <td>2.0</td>\n",
       "      <td>2.0</td>\n",
       "      <td>5.0</td>\n",
       "      <td>7.0</td>\n",
       "    </tr>\n",
       "    <tr>\n",
       "      <th>1</th>\n",
       "      <td>Ethan Lieman</td>\n",
       "      <td>Division 1</td>\n",
       "      <td>Men</td>\n",
       "      <td>Division 1 Men</td>\n",
       "      <td>Massachusetts</td>\n",
       "      <td>4.0</td>\n",
       "      <td>0.0</td>\n",
       "      <td>11.0</td>\n",
       "      <td>16.0</td>\n",
       "      <td>23.0</td>\n",
       "    </tr>\n",
       "    <tr>\n",
       "      <th>2</th>\n",
       "      <td>Roan Dunkerley</td>\n",
       "      <td>Division 1</td>\n",
       "      <td>Men</td>\n",
       "      <td>Division 1 Men</td>\n",
       "      <td>Massachusetts</td>\n",
       "      <td>4.0</td>\n",
       "      <td>0.0</td>\n",
       "      <td>0.0</td>\n",
       "      <td>4.0</td>\n",
       "      <td>0.0</td>\n",
       "    </tr>\n",
       "    <tr>\n",
       "      <th>3</th>\n",
       "      <td>Ian Buchanan</td>\n",
       "      <td>Division 1</td>\n",
       "      <td>Men</td>\n",
       "      <td>Division 1 Men</td>\n",
       "      <td>Massachusetts</td>\n",
       "      <td>2.0</td>\n",
       "      <td>0.0</td>\n",
       "      <td>1.0</td>\n",
       "      <td>0.0</td>\n",
       "      <td>-1.0</td>\n",
       "    </tr>\n",
       "    <tr>\n",
       "      <th>4</th>\n",
       "      <td>Tomo Liou</td>\n",
       "      <td>Division 1</td>\n",
       "      <td>Men</td>\n",
       "      <td>Division 1 Men</td>\n",
       "      <td>Massachusetts</td>\n",
       "      <td>2.0</td>\n",
       "      <td>0.0</td>\n",
       "      <td>0.0</td>\n",
       "      <td>3.0</td>\n",
       "      <td>1.0</td>\n",
       "    </tr>\n",
       "  </tbody>\n",
       "</table>\n",
       "</div>"
      ],
      "text/plain": [
       "           Player       level gender  ... Assists Points  plus_minus\n",
       "0      Nima Lhamo  Division 1    Men  ...     2.0    5.0         7.0\n",
       "1    Ethan Lieman  Division 1    Men  ...    11.0   16.0        23.0\n",
       "2  Roan Dunkerley  Division 1    Men  ...     0.0    4.0         0.0\n",
       "3    Ian Buchanan  Division 1    Men  ...     1.0    0.0        -1.0\n",
       "4       Tomo Liou  Division 1    Men  ...     0.0    3.0         1.0\n",
       "\n",
       "[5 rows x 10 columns]"
      ]
     },
     "execution_count": 13,
     "metadata": {},
     "output_type": "execute_result"
    }
   ],
   "source": [
    "# Removing columns and adding plus_minus\n",
    "clean_2025 = df_2025[['Player', 'level', 'gender', 'division', 'team_name', 'Turns', 'Ds', 'Assists', 'Points']]\n",
    "clean_2025 = clean_2025.fillna(0)\n",
    "clean_2025['plus_minus'] = clean_2025['Points'] + clean_2025['Assists'] + clean_2025['Ds'] - clean_2025['Turns']\n",
    "clean_2025.head()"
   ]
  },
  {
   "cell_type": "code",
   "execution_count": 14,
   "id": "fcf8e393",
   "metadata": {},
   "outputs": [],
   "source": [
    "# Catagorizing data\n",
    "male_2025 = clean_2025[clean_2025['gender'] == 'Men']\n",
    "women_2025 = clean_2025[clean_2025['gender'] == 'Women']\n",
    "divs_2025 = clean_2025[['team_name', 'gender', 'level']].drop_duplicates().set_index(keys='team_name')"
   ]
  },
  {
   "cell_type": "code",
   "execution_count": 15,
   "id": "e005b60a",
   "metadata": {},
   "outputs": [],
   "source": [
    "processed_2025 = prepare_data(male_2025, divs_2025)\n",
    "test_2025_x = processed_2025.drop(columns='level')\n",
    "test_2025_y = processed_2025['level']"
   ]
  },
  {
   "cell_type": "code",
   "execution_count": 16,
   "id": "67220827",
   "metadata": {},
   "outputs": [
    {
     "name": "stdout",
     "output_type": "stream",
     "text": [
      "Accuracy: 85.45%\n"
     ]
    }
   ],
   "source": [
    "predict = clf.predict(test_2025_x)\n",
    "results = get_results(predict, test_2025_y)"
   ]
  },
  {
   "cell_type": "code",
   "execution_count": 17,
   "id": "6d4754ac",
   "metadata": {},
   "outputs": [
    {
     "data": {
      "text/plain": [
       "[Text(0.5, 0.9, 'x[0] <= 3.639\\ngini = 0.499\\nsamples = 38\\nvalue = [18, 20]'),\n",
       " Text(0.25, 0.7, 'x[3] <= 2.482\\ngini = 0.33\\nsamples = 24\\nvalue = [5, 19]'),\n",
       " Text(0.375, 0.8, 'True  '),\n",
       " Text(0.125, 0.5, 'gini = 0.0\\nsamples = 10\\nvalue = [0, 10]'),\n",
       " Text(0.375, 0.5, 'x[4] <= 3.873\\ngini = 0.459\\nsamples = 14\\nvalue = [5, 9]'),\n",
       " Text(0.25, 0.3, 'gini = 0.0\\nsamples = 3\\nvalue = [3, 0]'),\n",
       " Text(0.5, 0.3, 'x[6] <= 2.394\\ngini = 0.298\\nsamples = 11\\nvalue = [2, 9]'),\n",
       " Text(0.375, 0.1, 'gini = 0.0\\nsamples = 9\\nvalue = [0, 9]'),\n",
       " Text(0.625, 0.1, 'gini = 0.0\\nsamples = 2\\nvalue = [2, 0]'),\n",
       " Text(0.75, 0.7, 'x[5] <= 3.868\\ngini = 0.133\\nsamples = 14\\nvalue = [13, 1]'),\n",
       " Text(0.625, 0.8, '  False'),\n",
       " Text(0.625, 0.5, 'gini = 0.0\\nsamples = 1\\nvalue = [0, 1]'),\n",
       " Text(0.875, 0.5, 'gini = 0.0\\nsamples = 13\\nvalue = [13, 0]')]"
      ]
     },
     "execution_count": 17,
     "metadata": {},
     "output_type": "execute_result"
    },
    {
     "data": {
      "image/png": "[encoded data removed]",
      "text/plain": [
       "<Figure size 640x480 with 1 Axes>"
      ]
     },
     "metadata": {},
     "output_type": "display_data"
    }
   ],
   "source": [
    "# Decision Tree Visualized\n",
    "tree.plot_tree(clf)"
   ]
  },
  {
   "cell_type": "markdown",
   "id": "0fd1f349",
   "metadata": {},
   "source": [
    "# Training for Female Dataset"
   ]
  },
  {
   "cell_type": "code",
   "execution_count": 18,
   "id": "13ce7821",
   "metadata": {},
   "outputs": [],
   "source": [
    "# Preparing datasets\n",
    "female_teams_all = prepare_data(female_df, team_divs)\n",
    "female_x_train = female_teams_all.drop(columns='level')\n",
    "female_y_train = female_teams_all['level']\n",
    "\n",
    "female_test_2025 = prepare_data(women_2025, divs_2025)\n",
    "female_x_test = female_test_2025.drop(columns='level')\n",
    "female_y_test = female_test_2025['level']"
   ]
  },
  {
   "cell_type": "code",
   "execution_count": 19,
   "id": "20836e87",
   "metadata": {},
   "outputs": [],
   "source": [
    "# New model\n",
    "clf_female = tree.DecisionTreeClassifier()\n",
    "clf_female = clf_female.fit(female_x_train, female_y_train)"
   ]
  },
  {
   "cell_type": "code",
   "execution_count": 20,
   "id": "1d316a58",
   "metadata": {},
   "outputs": [
    {
     "name": "stdout",
     "output_type": "stream",
     "text": [
      "Accuracy: 72.73%\n"
     ]
    }
   ],
   "source": [
    "# Testing model\n",
    "predictions = clf_female.predict(female_x_test)\n",
    "results = get_results(predictions, female_y_test)"
   ]
  },
  {
   "cell_type": "code",
   "execution_count": 28,
   "id": "addd0e08",
   "metadata": {},
   "outputs": [],
   "source": [
    "from sklearn.decomposition import PCA\n",
    "import numpy as np\n",
    "import matplotlib.pyplot as plt"
   ]
  },
  {
   "cell_type": "code",
   "execution_count": 27,
   "id": "be491538",
   "metadata": {},
   "outputs": [],
   "source": [
    "pca = PCA(n_components=male_x_train.shape[1])\n",
    "pca.fit(male_x_train)\n",
    "pca_data = pca.transform(male_x_train)\n",
    "var = np.round(pca.explained_variance_ratio_ * 100, decimals=1)\n",
    "labels = [\"PC\" + str(x) for x in range(1, len(var) + 1)]"
   ]
  },
  {
   "cell_type": "code",
   "execution_count": 29,
   "id": "a63e2a4e",
   "metadata": {},
   "outputs": [
    {
     "data": {
      "image/png": "[encoded data removed]",
      "text/plain": [
       "<Figure size 2000x600 with 1 Axes>"
      ]
     },
     "metadata": {},
     "output_type": "display_data"
    }
   ],
   "source": [
    "plt.figure(figsize=(20,6))\n",
    "plt.bar(x = range(1, len(var) + 1), height = var, tick_label = labels)\n",
    "plt.ylabel(\"Percentage of Explained Variance\")\n",
    "plt.xticks(rotation=45)\n",
    "plt.xlabel(\"Principal Component\")\n",
    "plt.title(\"Scree Plot\")\n",
    "plt.show()"
   ]
  },
  {
   "cell_type": "code",
   "execution_count": 33,
   "id": "6d287a6d",
   "metadata": {},
   "outputs": [
    {
     "data": {
      "image/png": "[encoded data removed]",
      "text/plain": [
       "<Figure size 1000x500 with 1 Axes>"
      ]
     },
     "metadata": {},
     "output_type": "display_data"
    }
   ],
   "source": [
    "PC1 = pca_data[:, 0]\n",
    "PC2 = pca_data[:, 1]\n",
    "\n",
    "plt.figure(figsize=(10,5))\n",
    "plt.scatter(PC1, PC2)\n",
    "plt.title(\"Scatter Plot of PC1 and PC2\")\n",
    "plt.xlabel(\"PC1\")\n",
    "plt.ylabel(\"PC2\")\n",
    "plt.show()\n"
   ]
  }
 ],
 "metadata": {
  "kernelspec": {
   "display_name": "env",
   "language": "python",
   "name": "python3"
  },
  "language_info": {
   "codemirror_mode": {
    "name": "ipython",
    "version": 3
   },
   "file_extension": ".py",
   "mimetype": "text/x-python",
   "name": "python",
   "nbconvert_exporter": "python",
   "pygments_lexer": "ipython3",
   "version": "3.12.7"
  }
 },
 "nbformat": 4,
 "nbformat_minor": 5
}
