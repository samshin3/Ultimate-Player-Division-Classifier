{
 "cells": [
  {
   "cell_type": "markdown",
   "id": "4bbace3c",
   "metadata": {},
   "source": [
    "# Division 1 or Division 3 Player?\n",
    "This notebook is my first exposure to Machine Learning, namely PyTorch. Using a simple dataset on statistics for Ultimate Frisbee Players at the 2024 College Ultimate Championships. My model aims is trained based off the dataset, and uses the players statistics on the field in order to try and determine if they are a division 1 or a divsion 3 player.\n",
    "\n",
    "Dataset Source: https://data.scorenetwork.org/disc_sports/ultimate_college_championship-2024.html\n",
    "User: Maxwell\n",
    "Original Source: Gavin Cassidy"
   ]
  },
  {
   "cell_type": "code",
   "execution_count": 365,
   "id": "90856e79",
   "metadata": {},
   "outputs": [],
   "source": [
    "import pandas as pd"
   ]
  },
  {
   "cell_type": "code",
   "execution_count": 366,
   "id": "ad260704",
   "metadata": {},
   "outputs": [
    {
     "data": {
      "text/html": [
       "<div>\n",
       "<style scoped>\n",
       "    .dataframe tbody tr th:only-of-type {\n",
       "        vertical-align: middle;\n",
       "    }\n",
       "\n",
       "    .dataframe tbody tr th {\n",
       "        vertical-align: top;\n",
       "    }\n",
       "\n",
       "    .dataframe thead th {\n",
       "        text-align: right;\n",
       "    }\n",
       "</style>\n",
       "<table border=\"1\" class=\"dataframe\">\n",
       "  <thead>\n",
       "    <tr style=\"text-align: right;\">\n",
       "      <th></th>\n",
       "      <th>player</th>\n",
       "      <th>level</th>\n",
       "      <th>gender</th>\n",
       "      <th>division</th>\n",
       "      <th>team_name</th>\n",
       "      <th>Turns</th>\n",
       "      <th>Ds</th>\n",
       "      <th>Assists</th>\n",
       "      <th>Points</th>\n",
       "      <th>plus_minus</th>\n",
       "      <th>team_games</th>\n",
       "      <th>turns_per_game</th>\n",
       "      <th>ds_per_game</th>\n",
       "      <th>ast_per_game</th>\n",
       "      <th>pts_per_game</th>\n",
       "      <th>pls_mns_per_game</th>\n",
       "    </tr>\n",
       "  </thead>\n",
       "  <tbody>\n",
       "    <tr>\n",
       "      <th>0</th>\n",
       "      <td>Jacques Nissen</td>\n",
       "      <td>Division 1</td>\n",
       "      <td>Men</td>\n",
       "      <td>Division 1 Men</td>\n",
       "      <td>Brown Brownian Motion</td>\n",
       "      <td>12</td>\n",
       "      <td>8</td>\n",
       "      <td>38</td>\n",
       "      <td>13</td>\n",
       "      <td>47</td>\n",
       "      <td>8</td>\n",
       "      <td>1.500000</td>\n",
       "      <td>1.000000</td>\n",
       "      <td>4.750000</td>\n",
       "      <td>1.625000</td>\n",
       "      <td>5.875</td>\n",
       "    </tr>\n",
       "    <tr>\n",
       "      <th>1</th>\n",
       "      <td>Cal Nightingale</td>\n",
       "      <td>Division 1</td>\n",
       "      <td>Men</td>\n",
       "      <td>Division 1 Men</td>\n",
       "      <td>Brown Brownian Motion</td>\n",
       "      <td>3</td>\n",
       "      <td>0</td>\n",
       "      <td>12</td>\n",
       "      <td>27</td>\n",
       "      <td>36</td>\n",
       "      <td>8</td>\n",
       "      <td>0.375000</td>\n",
       "      <td>0.000000</td>\n",
       "      <td>1.500000</td>\n",
       "      <td>3.375000</td>\n",
       "      <td>4.500</td>\n",
       "    </tr>\n",
       "    <tr>\n",
       "      <th>2</th>\n",
       "      <td>Faye Burdick</td>\n",
       "      <td>Division 1</td>\n",
       "      <td>Women</td>\n",
       "      <td>Division 1 Women</td>\n",
       "      <td>Colorado Quandary</td>\n",
       "      <td>6</td>\n",
       "      <td>12</td>\n",
       "      <td>16</td>\n",
       "      <td>13</td>\n",
       "      <td>35</td>\n",
       "      <td>7</td>\n",
       "      <td>0.857143</td>\n",
       "      <td>1.714286</td>\n",
       "      <td>2.285714</td>\n",
       "      <td>1.857143</td>\n",
       "      <td>5.000</td>\n",
       "    </tr>\n",
       "    <tr>\n",
       "      <th>3</th>\n",
       "      <td>Matthew Gregor</td>\n",
       "      <td>Division 3</td>\n",
       "      <td>Men</td>\n",
       "      <td>Division 3 Men</td>\n",
       "      <td>Franciscan Fatal</td>\n",
       "      <td>2</td>\n",
       "      <td>6</td>\n",
       "      <td>3</td>\n",
       "      <td>26</td>\n",
       "      <td>33</td>\n",
       "      <td>6</td>\n",
       "      <td>0.333333</td>\n",
       "      <td>1.000000</td>\n",
       "      <td>0.500000</td>\n",
       "      <td>4.333333</td>\n",
       "      <td>5.500</td>\n",
       "    </tr>\n",
       "    <tr>\n",
       "      <th>4</th>\n",
       "      <td>Frankie Saraniti</td>\n",
       "      <td>Division 3</td>\n",
       "      <td>Women</td>\n",
       "      <td>Division 3 Women</td>\n",
       "      <td>Carleton Eclipse</td>\n",
       "      <td>11</td>\n",
       "      <td>15</td>\n",
       "      <td>12</td>\n",
       "      <td>17</td>\n",
       "      <td>33</td>\n",
       "      <td>6</td>\n",
       "      <td>1.833333</td>\n",
       "      <td>2.500000</td>\n",
       "      <td>2.000000</td>\n",
       "      <td>2.833333</td>\n",
       "      <td>5.500</td>\n",
       "    </tr>\n",
       "  </tbody>\n",
       "</table>\n",
       "</div>"
      ],
      "text/plain": [
       "             player       level gender          division  \\\n",
       "0    Jacques Nissen  Division 1    Men    Division 1 Men   \n",
       "1   Cal Nightingale  Division 1    Men    Division 1 Men   \n",
       "2      Faye Burdick  Division 1  Women  Division 1 Women   \n",
       "3    Matthew Gregor  Division 3    Men    Division 3 Men   \n",
       "4  Frankie Saraniti  Division 3  Women  Division 3 Women   \n",
       "\n",
       "               team_name  Turns  Ds  Assists  Points  plus_minus  team_games  \\\n",
       "0  Brown Brownian Motion     12   8       38      13          47           8   \n",
       "1  Brown Brownian Motion      3   0       12      27          36           8   \n",
       "2      Colorado Quandary      6  12       16      13          35           7   \n",
       "3       Franciscan Fatal      2   6        3      26          33           6   \n",
       "4       Carleton Eclipse     11  15       12      17          33           6   \n",
       "\n",
       "   turns_per_game  ds_per_game  ast_per_game  pts_per_game  pls_mns_per_game  \n",
       "0        1.500000     1.000000      4.750000      1.625000             5.875  \n",
       "1        0.375000     0.000000      1.500000      3.375000             4.500  \n",
       "2        0.857143     1.714286      2.285714      1.857143             5.000  \n",
       "3        0.333333     1.000000      0.500000      4.333333             5.500  \n",
       "4        1.833333     2.500000      2.000000      2.833333             5.500  "
      ]
     },
     "execution_count": 366,
     "metadata": {},
     "output_type": "execute_result"
    }
   ],
   "source": [
    "# Get Dataset\n",
    "source = \"Dataset/ultimate_college_championship.csv\"\n",
    "df = pd.read_csv(source)\n",
    "df.head()"
   ]
  },
  {
   "cell_type": "code",
   "execution_count": 367,
   "id": "eae8ba2e",
   "metadata": {},
   "outputs": [
    {
     "data": {
      "text/html": [
       "<div>\n",
       "<style scoped>\n",
       "    .dataframe tbody tr th:only-of-type {\n",
       "        vertical-align: middle;\n",
       "    }\n",
       "\n",
       "    .dataframe tbody tr th {\n",
       "        vertical-align: top;\n",
       "    }\n",
       "\n",
       "    .dataframe thead th {\n",
       "        text-align: right;\n",
       "    }\n",
       "</style>\n",
       "<table border=\"1\" class=\"dataframe\">\n",
       "  <thead>\n",
       "    <tr style=\"text-align: right;\">\n",
       "      <th></th>\n",
       "      <th>level</th>\n",
       "      <th>Turns</th>\n",
       "      <th>Ds</th>\n",
       "      <th>Assists</th>\n",
       "      <th>Points</th>\n",
       "      <th>plus_minus</th>\n",
       "      <th>team_games</th>\n",
       "      <th>turns_per_game</th>\n",
       "      <th>ds_per_game</th>\n",
       "      <th>ast_per_game</th>\n",
       "      <th>pts_per_game</th>\n",
       "      <th>pls_mns_per_game</th>\n",
       "    </tr>\n",
       "  </thead>\n",
       "  <tbody>\n",
       "    <tr>\n",
       "      <th>0</th>\n",
       "      <td>Division 1</td>\n",
       "      <td>12</td>\n",
       "      <td>8</td>\n",
       "      <td>38</td>\n",
       "      <td>13</td>\n",
       "      <td>47</td>\n",
       "      <td>8</td>\n",
       "      <td>1.500000</td>\n",
       "      <td>1.000000</td>\n",
       "      <td>4.750000</td>\n",
       "      <td>1.625000</td>\n",
       "      <td>5.875</td>\n",
       "    </tr>\n",
       "    <tr>\n",
       "      <th>1</th>\n",
       "      <td>Division 1</td>\n",
       "      <td>3</td>\n",
       "      <td>0</td>\n",
       "      <td>12</td>\n",
       "      <td>27</td>\n",
       "      <td>36</td>\n",
       "      <td>8</td>\n",
       "      <td>0.375000</td>\n",
       "      <td>0.000000</td>\n",
       "      <td>1.500000</td>\n",
       "      <td>3.375000</td>\n",
       "      <td>4.500</td>\n",
       "    </tr>\n",
       "    <tr>\n",
       "      <th>2</th>\n",
       "      <td>Division 1</td>\n",
       "      <td>6</td>\n",
       "      <td>12</td>\n",
       "      <td>16</td>\n",
       "      <td>13</td>\n",
       "      <td>35</td>\n",
       "      <td>7</td>\n",
       "      <td>0.857143</td>\n",
       "      <td>1.714286</td>\n",
       "      <td>2.285714</td>\n",
       "      <td>1.857143</td>\n",
       "      <td>5.000</td>\n",
       "    </tr>\n",
       "    <tr>\n",
       "      <th>3</th>\n",
       "      <td>Division 3</td>\n",
       "      <td>2</td>\n",
       "      <td>6</td>\n",
       "      <td>3</td>\n",
       "      <td>26</td>\n",
       "      <td>33</td>\n",
       "      <td>6</td>\n",
       "      <td>0.333333</td>\n",
       "      <td>1.000000</td>\n",
       "      <td>0.500000</td>\n",
       "      <td>4.333333</td>\n",
       "      <td>5.500</td>\n",
       "    </tr>\n",
       "    <tr>\n",
       "      <th>4</th>\n",
       "      <td>Division 3</td>\n",
       "      <td>11</td>\n",
       "      <td>15</td>\n",
       "      <td>12</td>\n",
       "      <td>17</td>\n",
       "      <td>33</td>\n",
       "      <td>6</td>\n",
       "      <td>1.833333</td>\n",
       "      <td>2.500000</td>\n",
       "      <td>2.000000</td>\n",
       "      <td>2.833333</td>\n",
       "      <td>5.500</td>\n",
       "    </tr>\n",
       "  </tbody>\n",
       "</table>\n",
       "</div>"
      ],
      "text/plain": [
       "        level  Turns  Ds  Assists  Points  plus_minus  team_games  \\\n",
       "0  Division 1     12   8       38      13          47           8   \n",
       "1  Division 1      3   0       12      27          36           8   \n",
       "2  Division 1      6  12       16      13          35           7   \n",
       "3  Division 3      2   6        3      26          33           6   \n",
       "4  Division 3     11  15       12      17          33           6   \n",
       "\n",
       "   turns_per_game  ds_per_game  ast_per_game  pts_per_game  pls_mns_per_game  \n",
       "0        1.500000     1.000000      4.750000      1.625000             5.875  \n",
       "1        0.375000     0.000000      1.500000      3.375000             4.500  \n",
       "2        0.857143     1.714286      2.285714      1.857143             5.000  \n",
       "3        0.333333     1.000000      0.500000      4.333333             5.500  \n",
       "4        1.833333     2.500000      2.000000      2.833333             5.500  "
      ]
     },
     "execution_count": 367,
     "metadata": {},
     "output_type": "execute_result"
    }
   ],
   "source": [
    "# Keep only Men and remove team name, player name, gender, and division\n",
    "men_df = df.loc[df['gender'] == 'Men']\n",
    "men_df = df.drop(columns=['team_name', 'player', 'gender', 'division'])\n",
    "men_df.head()"
   ]
  },
  {
   "cell_type": "code",
   "execution_count": 368,
   "id": "049897c3",
   "metadata": {},
   "outputs": [
    {
     "data": {
      "text/plain": [
       "1665"
      ]
     },
     "execution_count": 368,
     "metadata": {},
     "output_type": "execute_result"
    }
   ],
   "source": [
    "len(men_df)"
   ]
  },
  {
   "cell_type": "code",
   "execution_count": 369,
   "id": "fba032b2",
   "metadata": {},
   "outputs": [],
   "source": [
    "# Split dataset in three: training, valid, test\n",
    "training_df = men_df.iloc[:555]\n",
    "valid_df = men_df.iloc[555:1110]\n",
    "test_df = men_df.iloc[1110:]"
   ]
  },
  {
   "cell_type": "markdown",
   "id": "87197e6d",
   "metadata": {},
   "source": [
    "Since the labels are binary (Either Division 1 or Division 3), we convert the 'level' cell into a binary column, where 0 represents Div 1, and 1 represents Div 3."
   ]
  },
  {
   "cell_type": "code",
   "execution_count": 370,
   "id": "09690528",
   "metadata": {},
   "outputs": [],
   "source": [
    "# Converting y into binary where Division 1 is represented as 0, and Division 3 as 1\n",
    "def convert(cell):\n",
    "    if (cell == 'Division 1'):\n",
    "        return 0\n",
    "    return 1"
   ]
  },
  {
   "cell_type": "code",
   "execution_count": 371,
   "id": "a450384e",
   "metadata": {},
   "outputs": [],
   "source": [
    "# Separating the features with the labels\n",
    "x_training = training_df.iloc[:, 7:].reset_index(drop=True)\n",
    "y_training = training_df['level'].reset_index(drop=True).apply(convert)\n",
    "x_valid = valid_df.iloc[:, 7:].reset_index(drop=True)\n",
    "y_valid = valid_df['level'].reset_index(drop=True).apply(convert)"
   ]
  },
  {
   "cell_type": "code",
   "execution_count": 372,
   "id": "42e62926",
   "metadata": {},
   "outputs": [],
   "source": [
    "import torch\n",
    "from torch import nn\n",
    "from torch.utils.data import DataLoader, TensorDataset"
   ]
  },
  {
   "cell_type": "code",
   "execution_count": 373,
   "id": "9587ad61",
   "metadata": {},
   "outputs": [],
   "source": [
    "# Converting features and labels into tensors\n",
    "train_x_tensor = torch.tensor(x_training.values, dtype=torch.float32)\n",
    "train_y_tensor = torch.tensor(y_training.values, dtype=torch.float32).unsqueeze(1)\n",
    "valid_x_tensor = torch.tensor(x_valid.values, dtype=torch.float32)\n",
    "valid_y_tensor = torch.tensor(y_valid.values, dtype=torch.float32).unsqueeze(1)"
   ]
  },
  {
   "cell_type": "code",
   "execution_count": 374,
   "id": "d37b5052",
   "metadata": {},
   "outputs": [],
   "source": [
    "# Loading the training set and validator set\n",
    "training_set = TensorDataset(train_x_tensor, train_y_tensor)\n",
    "valid_set = TensorDataset(valid_x_tensor, valid_y_tensor)\n",
    "batch = 16\n",
    "train_loader = DataLoader(training_set, batch_size=batch, shuffle=True)\n",
    "valid_loader = DataLoader(valid_set, batch_size=batch, shuffle=False)"
   ]
  },
  {
   "cell_type": "markdown",
   "id": "6ff1dbb9",
   "metadata": {},
   "source": [
    "# Classification \n",
    "My model is simple, since it only requires a binary output. This means for our function, we will use the BCELoss function and the Adam optimizer."
   ]
  },
  {
   "cell_type": "code",
   "execution_count": 375,
   "id": "08d67bcc",
   "metadata": {},
   "outputs": [],
   "source": [
    "class DivisionClassifier(nn.Module):\n",
    "    def __init__(self, input_size=5, hidden_size=32):\n",
    "        super(DivisionClassifier, self).__init__()\n",
    "        self.fc1 = nn.Linear(input_size, hidden_size)\n",
    "        self.fc2 = nn.Linear(hidden_size, 1)\n",
    "    \n",
    "    def forward(self, x):\n",
    "        x = nn.functional.relu(self.fc1(x))\n",
    "        return torch.sigmoid(self.fc2(x))\n"
   ]
  },
  {
   "cell_type": "code",
   "execution_count": 376,
   "id": "d4e1b80d",
   "metadata": {},
   "outputs": [],
   "source": [
    "# Initializing criterion and optimizer\n",
    "model=DivisionClassifier()\n",
    "criterion = nn.BCELoss()\n",
    "optimizer = torch.optim.Adam(model.parameters(), lr=0.001)"
   ]
  },
  {
   "cell_type": "markdown",
   "id": "848b9ff5",
   "metadata": {},
   "source": [
    "Using 10 epochs to train the model"
   ]
  },
  {
   "cell_type": "code",
   "execution_count": 377,
   "id": "777eb9cc",
   "metadata": {},
   "outputs": [
    {
     "name": "stdout",
     "output_type": "stream",
     "text": [
      "Epoch 1 / 25 - Train Loss: 0.6966975944536227, Valid Loss: 0.677760948468973\n",
      "Epoch 2 / 25 - Train Loss: 0.6686072784501154, Valid Loss: 0.6737417374645267\n",
      "Epoch 3 / 25 - Train Loss: 0.6623728155015826, Valid Loss: 0.671822869992471\n",
      "Epoch 4 / 25 - Train Loss: 0.6568568637779167, Valid Loss: 0.6702343926773415\n",
      "Epoch 5 / 25 - Train Loss: 0.6534279126304764, Valid Loss: 0.6689599727725124\n",
      "Epoch 6 / 25 - Train Loss: 0.6502652017919867, Valid Loss: 0.6672228440508112\n",
      "Epoch 7 / 25 - Train Loss: 0.6477777696944572, Valid Loss: 0.6666829046902356\n",
      "Epoch 8 / 25 - Train Loss: 0.6464627443133174, Valid Loss: 0.6649328112602234\n",
      "Epoch 9 / 25 - Train Loss: 0.6454462490640245, Valid Loss: 0.6638584640648988\n",
      "Epoch 10 / 25 - Train Loss: 0.6435342368778881, Valid Loss: 0.6627844693424465\n",
      "Epoch 11 / 25 - Train Loss: 0.6418465592839696, Valid Loss: 0.6623475352923075\n",
      "Epoch 12 / 25 - Train Loss: 0.639188949052278, Valid Loss: 0.6615750718761135\n",
      "Epoch 13 / 25 - Train Loss: 0.6394062599620304, Valid Loss: 0.6610337645083935\n",
      "Epoch 14 / 25 - Train Loss: 0.6382518538483628, Valid Loss: 0.6605781094447987\n",
      "Epoch 15 / 25 - Train Loss: 0.6388583464665456, Valid Loss: 0.6599708299379091\n",
      "Epoch 16 / 25 - Train Loss: 0.6371573341859353, Valid Loss: 0.6595030554780015\n",
      "Epoch 17 / 25 - Train Loss: 0.6356545886477909, Valid Loss: 0.6590920855333139\n",
      "Epoch 18 / 25 - Train Loss: 0.6346640906892381, Valid Loss: 0.6591666595355884\n",
      "Epoch 19 / 25 - Train Loss: 0.6347077385799305, Valid Loss: 0.6588054456152358\n",
      "Epoch 20 / 25 - Train Loss: 0.6341701641813055, Valid Loss: 0.6587070824863674\n",
      "Epoch 21 / 25 - Train Loss: 0.6339384475269834, Valid Loss: 0.6585010341695837\n",
      "Epoch 22 / 25 - Train Loss: 0.6339738260518323, Valid Loss: 0.6582198926994393\n",
      "Epoch 23 / 25 - Train Loss: 0.6332363224244333, Valid Loss: 0.6583578509253425\n",
      "Epoch 24 / 25 - Train Loss: 0.6330497661152401, Valid Loss: 0.6578966000058629\n",
      "Epoch 25 / 25 - Train Loss: 0.6334367849805334, Valid Loss: 0.6580848560676918\n"
     ]
    }
   ],
   "source": [
    "num_epochs = 25\n",
    "\n",
    "train_losses, val_losses = [], []\n",
    "\n",
    "for epoch in range(num_epochs):\n",
    "    model.train()\n",
    "    running_loss = 0.0\n",
    "\n",
    "    for batch_X, batch_Y in train_loader:\n",
    "        optimizer.zero_grad()\n",
    "        outputs = model(batch_X)\n",
    "        loss = criterion(outputs, batch_Y)\n",
    "        loss.backward()\n",
    "        optimizer.step()\n",
    "        running_loss += loss.item() * batch_X.size(0)\n",
    "\n",
    "    training_loss = running_loss / len(train_loader.dataset)\n",
    "    train_losses.append(training_loss)\n",
    "\n",
    "    #validation\n",
    "    model.eval()\n",
    "    running_loss = 0.0\n",
    "\n",
    "    with torch.no_grad():\n",
    "        for batch_X, batch_Y in valid_loader:\n",
    "            outputs = model(batch_X)\n",
    "            loss = criterion(outputs, batch_Y)\n",
    "            running_loss += loss.item() * batch_X.size(0)\n",
    "    \n",
    "    val_loss = running_loss / len(valid_loader.dataset)\n",
    "    val_losses.append(val_loss)\n",
    "\n",
    "    #Epoch Stats\n",
    "    print(f\"Epoch {epoch + 1} / {num_epochs} - Train Loss: {training_loss}, Valid Loss: {val_loss}\")"
   ]
  },
  {
   "cell_type": "code",
   "execution_count": 378,
   "id": "0807b8e6",
   "metadata": {},
   "outputs": [],
   "source": [
    "import matplotlib.pyplot as plt"
   ]
  },
  {
   "cell_type": "code",
   "execution_count": 379,
   "id": "edeb1c04",
   "metadata": {},
   "outputs": [
    {
     "data": {
      "image/png": "[encoded data removed]",
      "text/plain": [
       "<Figure size 640x480 with 1 Axes>"
      ]
     },
     "metadata": {},
     "output_type": "display_data"
    }
   ],
   "source": [
    "# Plotting the Loss over epochs\n",
    "plt.plot(train_losses, label=\"Training Loss\")\n",
    "plt.plot(val_losses, label=\"Validation Loss\")\n",
    "plt.legend()\n",
    "plt.title(\"Loss Over Epochs\")\n",
    "plt.show()"
   ]
  },
  {
   "cell_type": "code",
   "execution_count": 380,
   "id": "f80e219a",
   "metadata": {},
   "outputs": [],
   "source": [
    "# Save model\n",
    "torch.save(model.state_dict(), 'my_model.pth')"
   ]
  },
  {
   "cell_type": "code",
   "execution_count": null,
   "id": "928edd2d",
   "metadata": {},
   "outputs": [],
   "source": [
    "# Loading Test data\n",
    "x_test = test_df.iloc[:, 7:]\n",
    "y_test = test_df['level'].apply(convert)\n",
    "x_test_tensor = torch.tensor(x_test.values, dtype=torch.float32)\n",
    "y_test_tensor = torch.tensor(y_test.values, dtype=torch.float32).unsqueeze(1)\n",
    "test_set = TensorDataset(x_test_tensor, y_test_tensor)\n",
    "test_loader = DataLoader(test_set, batch_size = batch, shuffle=False)"
   ]
  },
  {
   "cell_type": "code",
   "execution_count": 382,
   "id": "6836c712",
   "metadata": {},
   "outputs": [],
   "source": [
    "# Writing out predictions with the model\n",
    "model.eval()\n",
    "\n",
    "with torch.no_grad():\n",
    "    probs = model(x_test_tensor)\n",
    "\n",
    "predictions = (probs > 0.5).int()"
   ]
  },
  {
   "cell_type": "code",
   "execution_count": 383,
   "id": "ebcd3cb6",
   "metadata": {},
   "outputs": [],
   "source": [
    "def first_elem(cell):\n",
    "    return cell[0]\n",
    "comparison = pd.DataFrame({'predictions': predictions.tolist(), 'actual': y_test})\n",
    "comparison['predictions'] = comparison['predictions'].apply(first_elem)"
   ]
  },
  {
   "cell_type": "code",
   "execution_count": 384,
   "id": "b95cb5d1",
   "metadata": {},
   "outputs": [
    {
     "name": "stdout",
     "output_type": "stream",
     "text": [
      "Accuracy: 56.22%\n"
     ]
    }
   ],
   "source": [
    "# Compares the actual value with predictions and calculates the accuracy to 2 decimal places\n",
    "accuracy = len(comparison.loc[comparison['predictions'] == comparison['actual']]) / len(comparison) * 100\n",
    "print(f\"Accuracy: {round(accuracy, 2)}%\")"
   ]
  }
 ],
 "metadata": {
  "kernelspec": {
   "display_name": "env",
   "language": "python",
   "name": "python3"
  },
  "language_info": {
   "codemirror_mode": {
    "name": "ipython",
    "version": 3
   },
   "file_extension": ".py",
   "mimetype": "text/x-python",
   "name": "python",
   "nbconvert_exporter": "python",
   "pygments_lexer": "ipython3",
   "version": "3.12.7"
  }
 },
 "nbformat": 4,
 "nbformat_minor": 5
}
